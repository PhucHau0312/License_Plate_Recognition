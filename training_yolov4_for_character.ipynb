{
  "nbformat": 4,
  "nbformat_minor": 0,
  "metadata": {
    "colab": {
      "provenance": [],
      "machine_shape": "hm"
    },
    "kernelspec": {
      "name": "python3",
      "display_name": "Python 3"
    },
    "accelerator": "GPU",
    "gpuClass": "standard"
  },
  "cells": [
    {
      "cell_type": "code",
      "metadata": {
        "id": "I_J0dlYiBfsh",
        "outputId": "0613b657-8943-4db3-fa1b-8d370e6c0f07",
        "colab": {
          "base_uri": "https://localhost:8080/"
        }
      },
      "source": [
        "!nvidia-smi"
      ],
      "execution_count": null,
      "outputs": [
        {
          "output_type": "stream",
          "name": "stdout",
          "text": [
            "Sun Feb 12 05:28:39 2023       \n",
            "+-----------------------------------------------------------------------------+\n",
            "| NVIDIA-SMI 510.47.03    Driver Version: 510.47.03    CUDA Version: 11.6     |\n",
            "|-------------------------------+----------------------+----------------------+\n",
            "| GPU  Name        Persistence-M| Bus-Id        Disp.A | Volatile Uncorr. ECC |\n",
            "| Fan  Temp  Perf  Pwr:Usage/Cap|         Memory-Usage | GPU-Util  Compute M. |\n",
            "|                               |                      |               MIG M. |\n",
            "|===============================+======================+======================|\n",
            "|   0  Tesla T4            Off  | 00000000:00:04.0 Off |                    0 |\n",
            "| N/A   56C    P0    25W /  70W |      0MiB / 15360MiB |      0%      Default |\n",
            "|                               |                      |                  N/A |\n",
            "+-------------------------------+----------------------+----------------------+\n",
            "                                                                               \n",
            "+-----------------------------------------------------------------------------+\n",
            "| Processes:                                                                  |\n",
            "|  GPU   GI   CI        PID   Type   Process name                  GPU Memory |\n",
            "|        ID   ID                                                   Usage      |\n",
            "|=============================================================================|\n",
            "|  No running processes found                                                 |\n",
            "+-----------------------------------------------------------------------------+\n"
          ]
        }
      ]
    },
    {
      "cell_type": "code",
      "metadata": {
        "id": "eUdAy7jdY2UK",
        "colab": {
          "base_uri": "https://localhost:8080/"
        },
        "outputId": "4bae3897-1584-4f7f-bf2e-8d8e71acfce6"
      },
      "source": [
        "from google.colab import drive\n",
        "drive.mount('/content/gdrive')"
      ],
      "execution_count": null,
      "outputs": [
        {
          "output_type": "stream",
          "name": "stdout",
          "text": [
            "Mounted at /content/gdrive\n"
          ]
        }
      ]
    },
    {
      "cell_type": "code",
      "metadata": {
        "id": "z-AB9WMCZAkF",
        "colab": {
          "base_uri": "https://localhost:8080/"
        },
        "outputId": "8831270d-1f36-4ad1-e6ad-c46b7a8db2d1"
      },
      "source": [
        "%cd /content/gdrive/MyDrive/yolov4-for-character-detection/darknet"
      ],
      "execution_count": null,
      "outputs": [
        {
          "output_type": "stream",
          "name": "stdout",
          "text": [
            "/content/gdrive/MyDrive/yolov4-for-character-detection/darknet\n"
          ]
        }
      ]
    },
    {
      "cell_type": "code",
      "source": [
        "!make\n",
        "!chmod +x ./darknet"
      ],
      "metadata": {
        "colab": {
          "base_uri": "https://localhost:8080/"
        },
        "id": "yXMMgQ0lS2RS",
        "outputId": "9ef5a1da-8e51-4564-f9a8-26fb452489d4"
      },
      "execution_count": null,
      "outputs": [
        {
          "output_type": "stream",
          "name": "stdout",
          "text": [
            "chmod +x *.sh\n"
          ]
        }
      ]
    },
    {
      "cell_type": "code",
      "metadata": {
        "id": "qcbGg5_Ukdnr"
      },
      "source": [
        "with open('/content/gdrive/MyDrive/yolov4 for character detection/darknet/data/valid.txt','r') as f:\n",
        "  file_names = f.readlines()\n",
        "\n",
        "file_names = [item.replace('\\n','').split('.')[0] for item in file_names]\n",
        "\n",
        "import glob\n",
        "import os\n",
        "with open('/content/gdrive/MyDrive/yolov4 for character detection/darknet/data/valid.txt', 'w') as f:\n",
        "  for base_name in file_names:\n",
        "    # print(base_name)\n",
        "    file_path = glob.glob('data/obj/data/*/{}*'.format(base_name))\n",
        "    # print(file_path)\n",
        "    if len(file_path)>2:\n",
        "      continue\n",
        "    img_path = [item for item in file_path if '.txt' not in item]\n",
        "    # print(img_path)\n",
        "    try:\n",
        "      f.write(img_path[0]+'\\n')\n",
        "    except:\n",
        "      pass"
      ],
      "execution_count": null,
      "outputs": []
    },
    {
      "cell_type": "code",
      "metadata": {
        "id": "L-xSrRj_oLRT",
        "colab": {
          "base_uri": "https://localhost:8080/"
        },
        "outputId": "45b5526f-128e-4876-8e6b-e30718a3ff0a"
      },
      "source": [
        "i=0\n",
        "with open('/content/gdrive/MyDrive/yolov4 for character detection/darknet/data/train.txt', 'w') as f1:\n",
        "  with open('/content/gdrive/MyDrive/yolov4 for character detection/darknet/data/valid.txt', 'r') as f:\n",
        "    valid_images = f.readlines()\n",
        "    valid_images = [item.replace('\\n','') for item in valid_images]\n",
        "    print(valid_images)\n",
        "    file_paths = glob.glob('data/obj/data/*/*')\n",
        "    # print(file_paths)\n",
        "    for i, file_path in enumerate(file_paths):\n",
        "      # print(i, file_path)\n",
        "      if '.txt' in file_path:\n",
        "        continue\n",
        "      if file_path not in valid_images:\n",
        "        i+=1\n",
        "        pass\n",
        "        # print(file_path)\n",
        "        \n",
        "        f1.write(file_path+'\\n')\n",
        "print(i)"
      ],
      "execution_count": null,
      "outputs": [
        {
          "output_type": "stream",
          "name": "stdout",
          "text": [
            "[]\n",
            "3014\n"
          ]
        }
      ]
    },
    {
      "cell_type": "code",
      "metadata": {
        "id": "yNWcpkGKZR0w"
      },
      "source": [
        "!./darknet detector calc_anchors data/obj.data -num_of_clusters 6 -width 320 -height 320 -show"
      ],
      "execution_count": null,
      "outputs": []
    },
    {
      "cell_type": "code",
      "metadata": {
        "id": "_0-WGtqZa-UJ"
      },
      "source": [
        "!./darknet detector train data/obj.data cfg/yolov4-tiny-mish.cfg yolov4-tiny.conv.29 -dont_show -map >yolov4-tiny-mish.log -mjpeg_port 8090"
      ],
      "execution_count": null,
      "outputs": []
    },
    {
      "cell_type": "code",
      "metadata": {
        "id": "wzY_FBPYVp2K"
      },
      "source": [
        "!./darknet detector train data/obj.data cfg/yolov4-tiny-mish.cfg backup/yolov4-tiny-mish_last.weights -dont_show -map >yolov4-tiny-mish-3.log -mjpeg_port 8090"
      ],
      "execution_count": null,
      "outputs": []
    },
    {
      "cell_type": "code",
      "metadata": {
        "id": "yE2SpoPwvB6J"
      },
      "source": [
        "!./darknet detector map data/obj.data cfg/yolov4-tiny-mish.cfg backup/yolov4-tiny-mish_last.weights -iou_thresh 0.75"
      ],
      "execution_count": null,
      "outputs": []
    },
    {
      "cell_type": "code",
      "metadata": {
        "id": "MvuEfa1_V8Lv",
        "colab": {
          "base_uri": "https://localhost:8080/"
        },
        "outputId": "618130ee-b90b-4af0-d478-37542ebf2bef"
      },
      "source": [
        "!python darknet_images.py --data_file data/obj.data --config_file cfg/yolov4-tiny-mish.cfg --weights backup/yolov4-tiny-mish_last.weights --dont_show --save_labels"
      ],
      "execution_count": null,
      "outputs": [
        {
          "output_type": "stream",
          "name": "stdout",
          "text": [
            " Try to load cfg: cfg/yolov4-tiny-mish.cfg, weights: backup/yolov4-tiny-mish_last.weights, clear = 0 \n",
            " 0 : compute_capability = 750, cudnn_half = 1, GPU: Tesla T4 \n",
            "net.optimized_memory = 0 \n",
            "mini_batch = 1, batch = 1, time_steps = 1, train = 0 \n",
            "   layer   filters  size/strd(dil)      input                output\n",
            "   0 conv     32       3 x 3/ 2    320 x 320 x   3 ->  160 x 160 x  32 0.044 BF\n",
            "   1 conv     64       3 x 3/ 2    160 x 160 x  32 ->   80 x  80 x  64 0.236 BF\n",
            "   2 conv     64       3 x 3/ 1     80 x  80 x  64 ->   80 x  80 x  64 0.472 BF\n",
            "   3 route  2 \t\t                       1/2 ->   80 x  80 x  32 \n",
            "   4 conv     32       3 x 3/ 1     80 x  80 x  32 ->   80 x  80 x  32 0.118 BF\n",
            "   5 conv     32       3 x 3/ 1     80 x  80 x  32 ->   80 x  80 x  32 0.118 BF\n",
            "   6 route  5 4 \t                           ->   80 x  80 x  64 \n",
            "   7 conv     64       1 x 1/ 1     80 x  80 x  64 ->   80 x  80 x  64 0.052 BF\n",
            "   8 route  2 7 \t                           ->   80 x  80 x 128 \n",
            "   9 max                2x 2/ 2     80 x  80 x 128 ->   40 x  40 x 128 0.001 BF\n",
            "  10 conv    128       3 x 3/ 1     40 x  40 x 128 ->   40 x  40 x 128 0.472 BF\n",
            "  11 route  10 \t\t                       1/2 ->   40 x  40 x  64 \n",
            "  12 conv     64       3 x 3/ 1     40 x  40 x  64 ->   40 x  40 x  64 0.118 BF\n",
            "  13 conv     64       3 x 3/ 1     40 x  40 x  64 ->   40 x  40 x  64 0.118 BF\n",
            "  14 route  13 12 \t                           ->   40 x  40 x 128 \n",
            "  15 conv    128       1 x 1/ 1     40 x  40 x 128 ->   40 x  40 x 128 0.052 BF\n",
            "  16 route  10 15 \t                           ->   40 x  40 x 256 \n",
            "  17 max                2x 2/ 2     40 x  40 x 256 ->   20 x  20 x 256 0.000 BF\n",
            "  18 conv    256       3 x 3/ 1     20 x  20 x 256 ->   20 x  20 x 256 0.472 BF\n",
            "  19 route  18 \t\t                       1/2 ->   20 x  20 x 128 \n",
            "  20 conv    128       3 x 3/ 1     20 x  20 x 128 ->   20 x  20 x 128 0.118 BF\n",
            "  21 conv    128       3 x 3/ 1     20 x  20 x 128 ->   20 x  20 x 128 0.118 BF\n",
            "  22 route  21 20 \t                           ->   20 x  20 x 256 \n",
            "  23 conv    256       1 x 1/ 1     20 x  20 x 256 ->   20 x  20 x 256 0.052 BF\n",
            "  24 route  18 23 \t                           ->   20 x  20 x 512 \n",
            "  25 max                2x 2/ 2     20 x  20 x 512 ->   10 x  10 x 512 0.000 BF\n",
            "  26 conv    512       3 x 3/ 1     10 x  10 x 512 ->   10 x  10 x 512 0.472 BF\n",
            "  27 conv    256       1 x 1/ 1     10 x  10 x 512 ->   10 x  10 x 256 0.026 BF\n",
            "  28 conv    512       3 x 3/ 1     10 x  10 x 256 ->   10 x  10 x 512 0.236 BF\n",
            "  29 conv    108       1 x 1/ 1     10 x  10 x 512 ->   10 x  10 x 108 0.011 BF\n",
            "  30 yolo\n",
            "[yolo] params: iou loss: ciou (4), iou_norm: 0.07, obj_norm: 1.00, cls_norm: 1.00, delta_norm: 1.00, scale_x_y: 1.05\n",
            "nms_kind: greedynms (1), beta = 0.600000 \n",
            "  31 route  27 \t\t                           ->   10 x  10 x 256 \n",
            "  32 conv    128       1 x 1/ 1     10 x  10 x 256 ->   10 x  10 x 128 0.007 BF\n",
            "  33 upsample                 2x    10 x  10 x 128 ->   20 x  20 x 128\n",
            "  34 route  33 23 \t                           ->   20 x  20 x 384 \n",
            "  35 conv    256       3 x 3/ 1     20 x  20 x 384 ->   20 x  20 x 256 0.708 BF\n",
            "  36 conv    108       1 x 1/ 1     20 x  20 x 256 ->   20 x  20 x 108 0.022 BF\n",
            "  37 yolo\n",
            "[yolo] params: iou loss: ciou (4), iou_norm: 0.07, obj_norm: 1.00, cls_norm: 1.00, delta_norm: 1.00, scale_x_y: 1.05\n",
            "nms_kind: greedynms (1), beta = 0.600000 \n",
            "Total BFLOPS 4.044 \n",
            "avg_outputs = 179684 \n",
            " Allocate additional workspace_size = 26.22 MB \n",
            " Try to load weights: backup/yolov4-tiny-mish_last.weights \n",
            "Loading weights from backup/yolov4-tiny-mish_last.weights...\n",
            " seen 64, trained: 4480 K-images (70 Kilo-batches_64) \n",
            "Done! Loaded 38 layers from weights-file \n",
            "Loaded - names_list: data/obj.names, classes = 31 \n",
            "Enter Image Path: /content/gdrive/MyDrive/yolov4-for-character-detection/Vietnam_license_plate.jpg\n",
            "\n",
            "Objects:\n",
            "1: 78.07%\n",
            "2: 97.14%\n",
            "A: 98.02%\n",
            "5: 98.68%\n",
            "6: 98.68%\n",
            "5: 99.36%\n",
            "7: 99.64%\n",
            "7: 99.85%\n",
            "Predict time:  0.7290012836456299\n",
            "FPS: 1\n",
            "Enter Image Path: \n",
            "^C\n"
          ]
        }
      ]
    },
    {
      "cell_type": "code",
      "source": [
        "%cd /content/gdrive/MyDrive/yolov4-for-character-detection/darknet\n",
        "!python lpr.py --input_dir /content/gdrive/MyDrive/yolov4-for-character-detection/darknet/0001_05318_b.jpg"
      ],
      "metadata": {
        "id": "TPs0WGjdxlOg",
        "colab": {
          "base_uri": "https://localhost:8080/"
        },
        "outputId": "dc056159-2b7f-4997-d504-17fc36a40f99"
      },
      "execution_count": null,
      "outputs": [
        {
          "output_type": "stream",
          "name": "stdout",
          "text": [
            "/content/gdrive/MyDrive/yolov4-for-character-detection/darknet\n",
            "2023-02-12 05:47:39.899727: I tensorflow/core/platform/cpu_feature_guard.cc:193] This TensorFlow binary is optimized with oneAPI Deep Neural Network Library (oneDNN) to use the following CPU instructions in performance-critical operations:  AVX2 AVX512F FMA\n",
            "To enable them in other operations, rebuild TensorFlow with the appropriate compiler flags.\n",
            "2023-02-12 05:47:40.942366: W tensorflow/compiler/xla/stream_executor/platform/default/dso_loader.cc:64] Could not load dynamic library 'libnvinfer.so.7'; dlerror: libnvinfer.so.7: cannot open shared object file: No such file or directory; LD_LIBRARY_PATH: /usr/lib64-nvidia\n",
            "2023-02-12 05:47:40.942480: W tensorflow/compiler/xla/stream_executor/platform/default/dso_loader.cc:64] Could not load dynamic library 'libnvinfer_plugin.so.7'; dlerror: libnvinfer_plugin.so.7: cannot open shared object file: No such file or directory; LD_LIBRARY_PATH: /usr/lib64-nvidia\n",
            "2023-02-12 05:47:40.942501: W tensorflow/compiler/tf2tensorrt/utils/py_utils.cc:38] TF-TRT Warning: Cannot dlopen some TensorRT libraries. If you would like to use Nvidia GPU with TensorRT, please make sure the missing libraries mentioned above are installed properly.\n",
            "2023-02-12 05:47:54.494844: W tensorflow/core/common_runtime/gpu/gpu_bfc_allocator.cc:42] Overriding orig_value setting because the TF_FORCE_GPU_ALLOW_GROWTH environment variable is set. Original config value was 0.\n",
            " Try to load cfg: ./cfg/yolov4-tiny-mish.cfg, weights: ./backup/yolov4-tiny-mish_best.weights, clear = 0 \n",
            " 0 : compute_capability = 750, cudnn_half = 1, GPU: Tesla T4 \n",
            "net.optimized_memory = 0 \n",
            "mini_batch = 1, batch = 1, time_steps = 1, train = 0 \n",
            "   layer   filters  size/strd(dil)      input                output\n",
            "   0 conv     32       3 x 3/ 2    320 x 320 x   3 ->  160 x 160 x  32 0.044 BF\n",
            "   1 conv     64       3 x 3/ 2    160 x 160 x  32 ->   80 x  80 x  64 0.236 BF\n",
            "   2 conv     64       3 x 3/ 1     80 x  80 x  64 ->   80 x  80 x  64 0.472 BF\n",
            "   3 route  2 \t\t                       1/2 ->   80 x  80 x  32 \n",
            "   4 conv     32       3 x 3/ 1     80 x  80 x  32 ->   80 x  80 x  32 0.118 BF\n",
            "   5 conv     32       3 x 3/ 1     80 x  80 x  32 ->   80 x  80 x  32 0.118 BF\n",
            "   6 route  5 4 \t                           ->   80 x  80 x  64 \n",
            "   7 conv     64       1 x 1/ 1     80 x  80 x  64 ->   80 x  80 x  64 0.052 BF\n",
            "   8 route  2 7 \t                           ->   80 x  80 x 128 \n",
            "   9 max                2x 2/ 2     80 x  80 x 128 ->   40 x  40 x 128 0.001 BF\n",
            "  10 conv    128       3 x 3/ 1     40 x  40 x 128 ->   40 x  40 x 128 0.472 BF\n",
            "  11 route  10 \t\t                       1/2 ->   40 x  40 x  64 \n",
            "  12 conv     64       3 x 3/ 1     40 x  40 x  64 ->   40 x  40 x  64 0.118 BF\n",
            "  13 conv     64       3 x 3/ 1     40 x  40 x  64 ->   40 x  40 x  64 0.118 BF\n",
            "  14 route  13 12 \t                           ->   40 x  40 x 128 \n",
            "  15 conv    128       1 x 1/ 1     40 x  40 x 128 ->   40 x  40 x 128 0.052 BF\n",
            "  16 route  10 15 \t                           ->   40 x  40 x 256 \n",
            "  17 max                2x 2/ 2     40 x  40 x 256 ->   20 x  20 x 256 0.000 BF\n",
            "  18 conv    256       3 x 3/ 1     20 x  20 x 256 ->   20 x  20 x 256 0.472 BF\n",
            "  19 route  18 \t\t                       1/2 ->   20 x  20 x 128 \n",
            "  20 conv    128       3 x 3/ 1     20 x  20 x 128 ->   20 x  20 x 128 0.118 BF\n",
            "  21 conv    128       3 x 3/ 1     20 x  20 x 128 ->   20 x  20 x 128 0.118 BF\n",
            "  22 route  21 20 \t                           ->   20 x  20 x 256 \n",
            "  23 conv    256       1 x 1/ 1     20 x  20 x 256 ->   20 x  20 x 256 0.052 BF\n",
            "  24 route  18 23 \t                           ->   20 x  20 x 512 \n",
            "  25 max                2x 2/ 2     20 x  20 x 512 ->   10 x  10 x 512 0.000 BF\n",
            "  26 conv    512       3 x 3/ 1     10 x  10 x 512 ->   10 x  10 x 512 0.472 BF\n",
            "  27 conv    256       1 x 1/ 1     10 x  10 x 512 ->   10 x  10 x 256 0.026 BF\n",
            "  28 conv    512       3 x 3/ 1     10 x  10 x 256 ->   10 x  10 x 512 0.236 BF\n",
            "  29 conv    108       1 x 1/ 1     10 x  10 x 512 ->   10 x  10 x 108 0.011 BF\n",
            "  30 yolo\n",
            "[yolo] params: iou loss: ciou (4), iou_norm: 0.07, obj_norm: 1.00, cls_norm: 1.00, delta_norm: 1.00, scale_x_y: 1.05\n",
            "nms_kind: greedynms (1), beta = 0.600000 \n",
            "  31 route  27 \t\t                           ->   10 x  10 x 256 \n",
            "  32 conv    128       1 x 1/ 1     10 x  10 x 256 ->   10 x  10 x 128 0.007 BF\n",
            "  33 upsample                 2x    10 x  10 x 128 ->   20 x  20 x 128\n",
            "  34 route  33 23 \t                           ->   20 x  20 x 384 \n",
            "  35 conv    256       3 x 3/ 1     20 x  20 x 384 ->   20 x  20 x 256 0.708 BF\n",
            "  36 conv    108       1 x 1/ 1     20 x  20 x 256 ->   20 x  20 x 108 0.022 BF\n",
            "  37 yolo\n",
            "[yolo] params: iou loss: ciou (4), iou_norm: 0.07, obj_norm: 1.00, cls_norm: 1.00, delta_norm: 1.00, scale_x_y: 1.05\n",
            "nms_kind: greedynms (1), beta = 0.600000 \n",
            "Total BFLOPS 4.044 \n",
            "avg_outputs = 179684 \n",
            " Allocate additional workspace_size = 26.22 MB \n",
            " Try to load weights: ./backup/yolov4-tiny-mish_best.weights \n",
            "Loading weights from ./backup/yolov4-tiny-mish_best.weights...\n",
            " seen 64, trained: 4383 K-images (68 Kilo-batches_64) \n",
            "Done! Loaded 38 layers from weights-file \n",
            "Loaded - names_list: data/obj.names, classes = 31 \n",
            "Searching for license plates using WPOD-NET\n",
            "1/1 [==============================] - 4s 4s/step\n",
            "[('6', '90.87', (217.19869995117188, 226.7312774658203, 51.58026123046875, 125.57877349853516)), ('4', '96.61', (275.8433837890625, 228.9483642578125, 51.87876892089844, 138.39483642578125)), ('2', '97.11', (151.50643920898438, 226.5738525390625, 50.92008972167969, 120.770263671875)), ('1', '97.76', (242.0899658203125, 88.63350677490234, 40.884971618652344, 119.884765625)), ('8', '98.2', (97.64342498779297, 226.83377075195312, 49.587852478027344, 124.56584167480469)), ('0', '98.5', (43.578285217285156, 227.64727783203125, 42.91948318481445, 122.8542251586914)), ('T', '99.24', (198.6851348876953, 89.38228607177734, 52.356224060058594, 128.97996520996094)), ('5', '99.47', (66.53466796875, 88.61982727050781, 51.491817474365234, 120.97281646728516)), ('9', '99.52', (116.17355346679688, 90.2322998046875, 51.94322204589844, 122.47322845458984))]\n",
            "\n",
            "Objects:\n",
            "6: 90.87%\n",
            "4: 96.61%\n",
            "2: 97.11%\n",
            "1: 97.76%\n",
            "8: 98.2%\n",
            "0: 98.5%\n",
            "T: 99.24%\n",
            "5: 99.47%\n",
            "9: 99.52%\n",
            "Detection time: 0.03117513656616211\n",
            "FPS: 32\n",
            "59T108264\n"
          ]
        }
      ]
    }
  ]
}